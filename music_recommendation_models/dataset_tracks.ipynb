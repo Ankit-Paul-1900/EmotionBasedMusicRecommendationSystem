{
 "cells": [
  {
   "cell_type": "code",
   "execution_count": 1,
   "id": "1c8ff2be",
   "metadata": {},
   "outputs": [],
   "source": [
    "import sys\n",
    "\n",
    "sys.path.append(\"../spotify_api_web_app\")"
   ]
  },
  {
   "cell_type": "code",
   "execution_count": null,
   "id": "74b2e40c",
   "metadata": {},
   "outputs": [],
   "source": []
  },
  {
   "cell_type": "code",
   "execution_count": 6,
   "id": "6baec403",
   "metadata": {},
   "outputs": [],
   "source": [
    "import music\n",
    "import pandas as pd\n",
    "from tqdm import tqdm #to optimize the loops excution\n",
    "import time"
   ]
  },
  {
   "cell_type": "code",
   "execution_count": 11,
   "id": "01c35c44",
   "metadata": {},
   "outputs": [],
   "source": [
    "log_id = music.authenticate()\n",
    "\n",
    "# Get all genres\n",
    "genres = log_id.recommendation_genre_seeds()\n",
    "\n",
    "# Set number of recommendations per genre\n",
    "n_recs = 50\n",
    "\n",
    "data_dict = {\"id\":[], \"genre\":[], \"track_name\":[], \"artist_name\":[],\n",
    "             \"valence\":[], \"energy\":[],'danceability':[],'acousticness':[],'instrumentalness':[],'liveness':[],\n",
    "             'loudness':[],'speechiness':[],'tempo':[]}\n"
   ]
  },
  {
   "cell_type": "code",
   "execution_count": 13,
   "id": "8d73e754",
   "metadata": {},
   "outputs": [
    {
     "name": "stderr",
     "output_type": "stream",
     "text": [
      "100%|██████████| 126/126 [1:00:13<00:00, 28.68s/it]\n"
     ]
    }
   ],
   "source": [
    "\n",
    "for g in tqdm(genres):\n",
    "    \n",
    "    # Get n recommendations\n",
    "    recs = log_id.recommendations(genres = [g], limit = n_recs)\n",
    "    # json-like string to dict\n",
    "    recs = eval(recs.json().replace(\"null\", \"-999\").replace(\"false\", \"False\").replace(\"true\", \"True\"))[\"tracks\"]\n",
    "    \n",
    "    # fetch data from each track\n",
    "    for track in recs:\n",
    "        # ID and Genre\n",
    "        data_dict[\"id\"].append(track[\"id\"])\n",
    "        data_dict[\"genre\"].append(g)\n",
    "        # Metadata\n",
    "        track_meta = log_id.track(track[\"id\"])\n",
    "        data_dict[\"track_name\"].append(track_meta.name)\n",
    "        data_dict[\"artist_name\"].append(track_meta.album.artists[0].name)\n",
    "        # Valence and energy\n",
    "        track_features = log_id.track_audio_features(track[\"id\"])\n",
    "        data_dict[\"valence\"].append(track_features.valence)\n",
    "        data_dict[\"energy\"].append(track_features.energy)\n",
    "        data_dict[\"danceability\"].append(track_features.danceability)\n",
    "        data_dict[\"acousticness\"].append(track_features.acousticness)\n",
    "        data_dict[\"instrumentalness\"].append(track_features.instrumentalness)\n",
    "        data_dict[\"liveness\"].append(track_features.liveness)\n",
    "        data_dict[\"loudness\"].append(track_features.loudness)\n",
    "        data_dict[\"speechiness\"].append(track_features.speechiness)\n",
    "        data_dict[\"tempo\"].append(track_features.tempo)\n",
    "        \n",
    "        \n",
    "        # Wait 0.2 seconds per track so that the api doesnt overheat\n",
    "        time.sleep(0.2)"
   ]
  },
  {
   "cell_type": "code",
   "execution_count": 43,
   "id": "c6655f74",
   "metadata": {},
   "outputs": [
    {
     "data": {
      "text/plain": [
       "'6KgrFtfas1ATDwuIiTL3wc'"
      ]
     },
     "execution_count": 43,
     "metadata": {},
     "output_type": "execute_result"
    }
   ],
   "source": [
    "d=data_dict['id'][-1]\n",
    "d"
   ]
  },
  {
   "cell_type": "code",
   "execution_count": 47,
   "id": "a453693f",
   "metadata": {},
   "outputs": [],
   "source": [
    "df=pd.DataFrame(data_dict)\n",
    "\n",
    "# Drop duplicates\n",
    "df.drop_duplicates(subset = \"id\", keep = \"first\", inplace = True)\n",
    "df.to_csv(\"songs_mood.csv\", index = False)\n",
    "   "
   ]
  },
  {
   "cell_type": "code",
   "execution_count": 46,
   "id": "d5daeb17",
   "metadata": {},
   "outputs": [
    {
     "name": "stdout",
     "output_type": "stream",
     "text": [
      "6421\n",
      "6421\n",
      "6421\n",
      "6421\n",
      "6421\n",
      "6421\n",
      "6421\n",
      "6421\n",
      "6421\n",
      "6421\n",
      "6421\n",
      "6421\n",
      "6421\n"
     ]
    }
   ],
   "source": [
    "for i in data_dict:\n",
    "    l=len(data_dict[i])\n",
    "    if l !=6421:\n",
    "        data_dict[i].append(0)\n",
    "\n",
    "for i in data_dict:\n",
    "    print(len(data_dict[i]))\n",
    "    "
   ]
  },
  {
   "cell_type": "code",
   "execution_count": 41,
   "id": "d250418a",
   "metadata": {},
   "outputs": [
    {
     "data": {
      "text/plain": [
       "['6O3cgvwRrl0Nv48diMuelA',\n",
       " '7tEETVJYcqhZ3gZCPUyiqU',\n",
       " '2ZUszKpDYEPvNWFrxewx94',\n",
       " '2dmOCfw7IYNd6zmoCqkULl']"
      ]
     },
     "execution_count": 41,
     "metadata": {},
     "output_type": "execute_result"
    }
   ],
   "source": [
    "data_dict['id'][-5:-1]"
   ]
  },
  {
   "cell_type": "code",
   "execution_count": 44,
   "id": "8d087058",
   "metadata": {},
   "outputs": [
    {
     "data": {
      "text/html": [
       "<div>\n",
       "<style scoped>\n",
       "    .dataframe tbody tr th:only-of-type {\n",
       "        vertical-align: middle;\n",
       "    }\n",
       "\n",
       "    .dataframe tbody tr th {\n",
       "        vertical-align: top;\n",
       "    }\n",
       "\n",
       "    .dataframe thead th {\n",
       "        text-align: right;\n",
       "    }\n",
       "</style>\n",
       "<table border=\"1\" class=\"dataframe\">\n",
       "  <thead>\n",
       "    <tr style=\"text-align: right;\">\n",
       "      <th></th>\n",
       "      <th>0</th>\n",
       "    </tr>\n",
       "  </thead>\n",
       "  <tbody>\n",
       "    <tr>\n",
       "      <th>0</th>\n",
       "      <td>3fCJRE4P1uU8dcqEW5mnM6</td>\n",
       "    </tr>\n",
       "    <tr>\n",
       "      <th>1</th>\n",
       "      <td>7z7fquRFQFXt4Dj7ouWETq</td>\n",
       "    </tr>\n",
       "    <tr>\n",
       "      <th>2</th>\n",
       "      <td>4PTPbE3HvhxB9z3SYMBfz6</td>\n",
       "    </tr>\n",
       "    <tr>\n",
       "      <th>3</th>\n",
       "      <td>3DDGhkxq3FeUorZppSgeLE</td>\n",
       "    </tr>\n",
       "    <tr>\n",
       "      <th>4</th>\n",
       "      <td>5LkAwO0AkY6Z3M4bCadu4r</td>\n",
       "    </tr>\n",
       "    <tr>\n",
       "      <th>...</th>\n",
       "      <td>...</td>\n",
       "    </tr>\n",
       "    <tr>\n",
       "      <th>6416</th>\n",
       "      <td>6O3cgvwRrl0Nv48diMuelA</td>\n",
       "    </tr>\n",
       "    <tr>\n",
       "      <th>6417</th>\n",
       "      <td>7tEETVJYcqhZ3gZCPUyiqU</td>\n",
       "    </tr>\n",
       "    <tr>\n",
       "      <th>6418</th>\n",
       "      <td>2ZUszKpDYEPvNWFrxewx94</td>\n",
       "    </tr>\n",
       "    <tr>\n",
       "      <th>6419</th>\n",
       "      <td>2dmOCfw7IYNd6zmoCqkULl</td>\n",
       "    </tr>\n",
       "    <tr>\n",
       "      <th>6420</th>\n",
       "      <td>6KgrFtfas1ATDwuIiTL3wc</td>\n",
       "    </tr>\n",
       "  </tbody>\n",
       "</table>\n",
       "<p>6421 rows × 1 columns</p>\n",
       "</div>"
      ],
      "text/plain": [
       "                           0\n",
       "0     3fCJRE4P1uU8dcqEW5mnM6\n",
       "1     7z7fquRFQFXt4Dj7ouWETq\n",
       "2     4PTPbE3HvhxB9z3SYMBfz6\n",
       "3     3DDGhkxq3FeUorZppSgeLE\n",
       "4     5LkAwO0AkY6Z3M4bCadu4r\n",
       "...                      ...\n",
       "6416  6O3cgvwRrl0Nv48diMuelA\n",
       "6417  7tEETVJYcqhZ3gZCPUyiqU\n",
       "6418  2ZUszKpDYEPvNWFrxewx94\n",
       "6419  2dmOCfw7IYNd6zmoCqkULl\n",
       "6420  6KgrFtfas1ATDwuIiTL3wc\n",
       "\n",
       "[6421 rows x 1 columns]"
      ]
     },
     "execution_count": 44,
     "metadata": {},
     "output_type": "execute_result"
    }
   ],
   "source": []
  },
  {
   "cell_type": "code",
   "execution_count": null,
   "id": "e4dc778d",
   "metadata": {},
   "outputs": [],
   "source": []
  }
 ],
 "metadata": {
  "kernelspec": {
   "display_name": "Python 3 (ipykernel)",
   "language": "python",
   "name": "python3"
  },
  "language_info": {
   "codemirror_mode": {
    "name": "ipython",
    "version": 3
   },
   "file_extension": ".py",
   "mimetype": "text/x-python",
   "name": "python",
   "nbconvert_exporter": "python",
   "pygments_lexer": "ipython3",
   "version": "3.9.15"
  }
 },
 "nbformat": 4,
 "nbformat_minor": 5
}
